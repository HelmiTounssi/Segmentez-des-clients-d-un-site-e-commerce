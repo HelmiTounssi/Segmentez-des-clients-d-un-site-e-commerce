{
 "cells": [
  {
   "cell_type": "markdown",
   "metadata": {
    "notebookRunGroups": {
     "groupValue": "1"
    }
   },
   "source": [
    "---\n",
    "## <a class=\"anchor\" id=\"data\">I. Data Import </a>\n",
    "\n",
    "### 1. Libraries"
   ]
  },
  {
   "cell_type": "code",
   "execution_count": 1,
   "metadata": {},
   "outputs": [
    {
     "data": {
      "text/html": [
       "        <script type=\"text/javascript\">\n",
       "        window.PlotlyConfig = {MathJaxConfig: 'local'};\n",
       "        if (window.MathJax && window.MathJax.Hub && window.MathJax.Hub.Config) {window.MathJax.Hub.Config({SVG: {font: \"STIX-Web\"}});}\n",
       "        if (typeof require !== 'undefined') {\n",
       "        require.undef(\"plotly\");\n",
       "        requirejs.config({\n",
       "            paths: {\n",
       "                'plotly': ['https://cdn.plot.ly/plotly-2.12.1.min']\n",
       "            }\n",
       "        });\n",
       "        require(['plotly'], function(Plotly) {\n",
       "            window._Plotly = Plotly;\n",
       "        });\n",
       "        }\n",
       "        </script>\n",
       "        "
      ]
     },
     "metadata": {},
     "output_type": "display_data"
    }
   ],
   "source": [
    "from plotly import tools\n",
    "from plotly.graph_objs import Scatter, Figure, Layout\n",
    "from plotly.offline import download_plotlyjs, init_notebook_mode, plot, iplot\n",
    "import plotly.offline as offline\n",
    "import plotly as py\n",
    "from sklearn.preprocessing import StandardScaler\n",
    "import re\n",
    "from P5_Openclassroom_Functions import  *\n",
    "\n",
    "from datetime import timedelta\n",
    "import matplotlib.dates as mdates\n",
    "import sidetable\n",
    "from sklearn.metrics import r2_score, mean_squared_error, classification_report\n",
    "from sklearn.model_selection import train_test_split\n",
    "from sklearn.linear_model import LinearRegression\n",
    "import pandas as pd\n",
    "import numpy as np\n",
    "import matplotlib.pyplot as plt\n",
    "import seaborn as sns\n",
    "import plotly\n",
    "import plotly.graph_objs as go\n",
    "from datetime import datetime as dt\n",
    "%matplotlib inline\n",
    "sns.set_style(\"whitegrid\")\n",
    "from math import radians, cos, sin, asin, sqrt\n",
    "from time import time\n",
    "\n",
    "init_notebook_mode(connected=True)\n",
    "%matplotlib inline\n",
    "from sklearn.preprocessing import OneHotEncoder, StandardScaler\n",
    "\n",
    "from sklearn.decomposition import PCA\n",
    "from sklearn.manifold import TSNE\n",
    "from sklearn.cluster import KMeans\n",
    "from sklearn.cluster import DBSCAN\n",
    "from sklearn.cluster import AgglomerativeClustering\n",
    "from sklearn.metrics import davies_bouldin_score\n",
    "from sklearn.metrics import silhouette_score\n",
    "from sklearn.metrics import calinski_harabasz_score"
   ]
  },
  {
   "cell_type": "markdown",
   "metadata": {},
   "source": [
    "---\n",
    "### 2. Importing data\n"
   ]
  },
  {
   "cell_type": "code",
   "execution_count": 2,
   "metadata": {},
   "outputs": [],
   "source": [
    "df= pd.read_csv('../data/df_customer_data_mart.csv',sep=',')"
   ]
  },
  {
   "cell_type": "code",
   "execution_count": 3,
   "metadata": {},
   "outputs": [],
   "source": [
    "# deleting the \"Unnamed\" columns\n",
    "df.drop(['Unnamed: 0'], axis=1, inplace=True)"
   ]
  },
  {
   "cell_type": "code",
   "execution_count": 4,
   "metadata": {},
   "outputs": [
    {
     "data": {
      "text/plain": [
       "(91160, 58)"
      ]
     },
     "execution_count": 4,
     "metadata": {},
     "output_type": "execute_result"
    }
   ],
   "source": [
    "df.shape"
   ]
  },
  {
   "cell_type": "code",
   "execution_count": 5,
   "metadata": {},
   "outputs": [
    {
     "data": {
      "text/plain": [
       "customer_unique_id\n",
       "False    91160\n",
       "Name: count, dtype: int64"
      ]
     },
     "execution_count": 5,
     "metadata": {},
     "output_type": "execute_result"
    }
   ],
   "source": [
    "df['customer_unique_id'].duplicated().value_counts()"
   ]
  },
  {
   "cell_type": "markdown",
   "metadata": {},
   "source": [
    "## Préparation"
   ]
  },
  {
   "cell_type": "code",
   "execution_count": 6,
   "metadata": {},
   "outputs": [],
   "source": [
    "#, 'order_line_cube_in_ltr_log','freight_value' ,'price_log''review_score',, 'geolocation_lng','freight_value','product_category_encoded','payment_type_encoded'\n",
    "# Créer un nouveau DataFrame avec les colonnes numériques, 'order_line_cube_in_ltr_log'\n",
    "\n",
    "\n",
    "#numerical_columns = ['freight_value','harvesine_distance', 'review_score','frequency', 'recency',  'avg_comment','estimated_duration','shipping_duration', 'order_line_cube_in_ltr','total_payment']\n",
    "#numerical_columns = ['geolocation_zip_code_prefix','payment_type_encoded','freight_value', 'review_score_mean','frequency', 'product_category_encoded','recency', 'geolocation_lat', 'geolocation_lng','avg_comment','estimated_duration_log','shipping_duration_log', 'order_line_cube_in_ltr_log','total_payment_log']\n",
    "\n",
    "numerical_columns = ['freight_value', 'review_score_mean','frequency', 'recency',  'avg_comment_log','estimated_duration_days','shipping_duration_days', 'order_line_cube_in_ltr','total_payment_log']\n",
    "\n",
    "pca_df = df[numerical_columns].copy()\n",
    "data_conclusion=df.copy()"
   ]
  },
  {
   "cell_type": "code",
   "execution_count": 7,
   "metadata": {},
   "outputs": [
    {
     "name": "stderr",
     "output_type": "stream",
     "text": [
      "c:\\ProgramData\\anaconda3\\lib\\site-packages\\sklearn\\utils\\validation.py:767: FutureWarning:\n",
      "\n",
      "is_sparse is deprecated and will be removed in a future version. Check `isinstance(dtype, pd.SparseDtype)` instead.\n",
      "\n",
      "c:\\ProgramData\\anaconda3\\lib\\site-packages\\sklearn\\utils\\validation.py:605: FutureWarning:\n",
      "\n",
      "is_sparse is deprecated and will be removed in a future version. Check `isinstance(dtype, pd.SparseDtype)` instead.\n",
      "\n",
      "c:\\ProgramData\\anaconda3\\lib\\site-packages\\sklearn\\utils\\validation.py:614: FutureWarning:\n",
      "\n",
      "is_sparse is deprecated and will be removed in a future version. Check `isinstance(dtype, pd.SparseDtype)` instead.\n",
      "\n",
      "c:\\ProgramData\\anaconda3\\lib\\site-packages\\sklearn\\utils\\validation.py:767: FutureWarning:\n",
      "\n",
      "is_sparse is deprecated and will be removed in a future version. Check `isinstance(dtype, pd.SparseDtype)` instead.\n",
      "\n",
      "c:\\ProgramData\\anaconda3\\lib\\site-packages\\sklearn\\utils\\validation.py:605: FutureWarning:\n",
      "\n",
      "is_sparse is deprecated and will be removed in a future version. Check `isinstance(dtype, pd.SparseDtype)` instead.\n",
      "\n",
      "c:\\ProgramData\\anaconda3\\lib\\site-packages\\sklearn\\utils\\validation.py:614: FutureWarning:\n",
      "\n",
      "is_sparse is deprecated and will be removed in a future version. Check `isinstance(dtype, pd.SparseDtype)` instead.\n",
      "\n"
     ]
    }
   ],
   "source": [
    "from sklearn.preprocessing import MinMaxScaler\n",
    "# Créer un nouveau DataFrame avec les colonnes numériques\n",
    "pca_df = df[numerical_columns].copy()\n",
    "\n",
    "# Supprimer les lignes avec des valeurs manquantes (NaN)\n",
    "pca_df.dropna(inplace=True)\n",
    "\n",
    "scaler = MinMaxScaler()\n",
    "X = scaler.fit_transform(pca_df[numerical_columns])\n",
    "#X_sc = pd.merge(X[numerical_columns], df[log_columns])\n",
    "n_comp = 8\n",
    "pca = PCA(n_components=n_comp).fit(X)\n",
    "\n",
    "pca_df = pd.DataFrame(pca.components_,\n",
    "                      index=['PC'+str(i+1) for i in range(n_comp)],\n",
    "                      columns=numerical_columns).T\n",
    "\n",
    "X_proj = pca.transform(X)"
   ]
  },
  {
   "cell_type": "code",
   "execution_count": 8,
   "metadata": {},
   "outputs": [
    {
     "data": {
      "image/png": "[encoded data removed]",
      "text/plain": [
       "<Figure size 800x400 with 2 Axes>"
      ]
     },
     "metadata": {},
     "output_type": "display_data"
    }
   ],
   "source": [
    "\n",
    "plot_heatmap(pca_df,'Principal components coefficients', vmin=-1, vmax=1, center=0,\n",
    "             palette=sns.color_palette(\"coolwarm\", 20),figsize=(8,4),shape='rect')\n",
    "plt.show()"
   ]
  },
  {
   "cell_type": "code",
   "execution_count": 29,
   "metadata": {},
   "outputs": [],
   "source": [
    "nb_clusters_agg=10\n",
    "\n",
    "scaler = MinMaxScaler()\n",
    "X_scaled_bis = scaler.fit_transform(X_proj[:,0:4])\n",
    "#X_scaled_bis = scaler.fit_transform(X_proj)"
   ]
  },
  {
   "cell_type": "code",
   "execution_count": null,
   "metadata": {},
   "outputs": [],
   "source": []
  },
  {
   "cell_type": "markdown",
   "metadata": {},
   "source": [
    "# Tunning hyperparameters\n",
    "## Kmeans"
   ]
  },
  {
   "cell_type": "code",
   "execution_count": 10,
   "metadata": {},
   "outputs": [],
   "source": [
    "hyper_sil = []\n",
    "hyper_dav = []\n",
    "hyper_cal = []\n",
    "\n",
    "for x in [10, 20, 30, 40,50,60]:\n",
    "    cluster_km_c = KMeans(n_clusters=10, init='k-means++', n_init=x, max_iter=x*10, random_state=42)\n",
    "    labels = cluster_km_c.fit(X_scaled_bis).labels_\n",
    "    hyper_sil.append(silhouette_score(X_scaled_bis, labels))\n",
    "    hyper_dav.append(davies_bouldin_score(X_scaled_bis, labels))\n",
    "    hyper_cal.append(calinski_harabasz_score(X_scaled_bis, labels))"
   ]
  },
  {
   "cell_type": "code",
   "execution_count": 11,
   "metadata": {},
   "outputs": [
    {
     "data": {
      "text/html": [
       "<div>\n",
       "<style scoped>\n",
       "    .dataframe tbody tr th:only-of-type {\n",
       "        vertical-align: middle;\n",
       "    }\n",
       "\n",
       "    .dataframe tbody tr th {\n",
       "        vertical-align: top;\n",
       "    }\n",
       "\n",
       "    .dataframe thead th {\n",
       "        text-align: right;\n",
       "    }\n",
       "</style>\n",
       "<table border=\"1\" class=\"dataframe\">\n",
       "  <thead>\n",
       "    <tr style=\"text-align: right;\">\n",
       "      <th></th>\n",
       "      <th>silhouette_score</th>\n",
       "      <th>calinski_harabasz_score</th>\n",
       "      <th>davies_bouldin_score</th>\n",
       "    </tr>\n",
       "  </thead>\n",
       "  <tbody>\n",
       "    <tr>\n",
       "      <th>0</th>\n",
       "      <td>0.232414</td>\n",
       "      <td>36357.599278</td>\n",
       "      <td>1.382831</td>\n",
       "    </tr>\n",
       "    <tr>\n",
       "      <th>1</th>\n",
       "      <td>0.253696</td>\n",
       "      <td>36543.229222</td>\n",
       "      <td>1.327301</td>\n",
       "    </tr>\n",
       "    <tr>\n",
       "      <th>2</th>\n",
       "      <td>0.253019</td>\n",
       "      <td>36544.390630</td>\n",
       "      <td>1.329362</td>\n",
       "    </tr>\n",
       "    <tr>\n",
       "      <th>3</th>\n",
       "      <td>0.269474</td>\n",
       "      <td>36938.244559</td>\n",
       "      <td>1.246638</td>\n",
       "    </tr>\n",
       "  </tbody>\n",
       "</table>\n",
       "</div>"
      ],
      "text/plain": [
       "   silhouette_score  calinski_harabasz_score  davies_bouldin_score\n",
       "0          0.232414             36357.599278              1.382831\n",
       "1          0.253696             36543.229222              1.327301\n",
       "2          0.253019             36544.390630              1.329362\n",
       "3          0.269474             36938.244559              1.246638"
      ]
     },
     "execution_count": 11,
     "metadata": {},
     "output_type": "execute_result"
    }
   ],
   "source": [
    "scores = pd.DataFrame()\n",
    "scores['silhouette_score'] = hyper_sil\n",
    "scores['calinski_harabasz_score'] = hyper_cal\n",
    "scores['davies_bouldin_score'] = hyper_dav\n",
    "scores"
   ]
  },
  {
   "cell_type": "code",
   "execution_count": 12,
   "metadata": {},
   "outputs": [
    {
     "data": {
      "text/plain": [
       "Text(0.5, 1.0, 'Kmeans')"
      ]
     },
     "execution_count": 12,
     "metadata": {},
     "output_type": "execute_result"
    },
    {
     "data": {
      "image/png": "[encoded data removed]",
      "text/plain": [
       "<Figure size 640x480 with 1 Axes>"
      ]
     },
     "metadata": {},
     "output_type": "display_data"
    }
   ],
   "source": [
    "scores['calinski_harabasz_score'] = (scores['calinski_harabasz_score']-scores['calinski_harabasz_score'].min())/(scores['calinski_harabasz_score'].max()-scores['calinski_harabasz_score'].min())\n",
    "scores.plot()\n",
    "plt.xlabel(\"Interation with init, and max_iter values\")\n",
    "plt.ylabel(\"Values\")\n",
    "plt.title(\"Kmeans\")"
   ]
  },
  {
   "cell_type": "markdown",
   "metadata": {},
   "source": [
    "Birch"
   ]
  },
  {
   "cell_type": "code",
   "execution_count": 97,
   "metadata": {},
   "outputs": [
    {
     "data": {
      "text/html": [
       "<div>\n",
       "<style scoped>\n",
       "    .dataframe tbody tr th:only-of-type {\n",
       "        vertical-align: middle;\n",
       "    }\n",
       "\n",
       "    .dataframe tbody tr th {\n",
       "        vertical-align: top;\n",
       "    }\n",
       "\n",
       "    .dataframe thead th {\n",
       "        text-align: right;\n",
       "    }\n",
       "</style>\n",
       "<table border=\"1\" class=\"dataframe\">\n",
       "  <thead>\n",
       "    <tr style=\"text-align: right;\">\n",
       "      <th></th>\n",
       "      <th>silhouette_score</th>\n",
       "      <th>calinski_harabasz_score</th>\n",
       "      <th>davies_bouldin_score</th>\n",
       "    </tr>\n",
       "  </thead>\n",
       "  <tbody>\n",
       "    <tr>\n",
       "      <th>0</th>\n",
       "      <td>0.711969</td>\n",
       "      <td>110170.465251</td>\n",
       "      <td>0.431088</td>\n",
       "    </tr>\n",
       "    <tr>\n",
       "      <th>1</th>\n",
       "      <td>0.586981</td>\n",
       "      <td>56862.283600</td>\n",
       "      <td>0.791631</td>\n",
       "    </tr>\n",
       "    <tr>\n",
       "      <th>2</th>\n",
       "      <td>0.583541</td>\n",
       "      <td>25696.492640</td>\n",
       "      <td>0.742961</td>\n",
       "    </tr>\n",
       "    <tr>\n",
       "      <th>3</th>\n",
       "      <td>0.715206</td>\n",
       "      <td>109045.054576</td>\n",
       "      <td>0.391941</td>\n",
       "    </tr>\n",
       "    <tr>\n",
       "      <th>4</th>\n",
       "      <td>0.715466</td>\n",
       "      <td>109405.879470</td>\n",
       "      <td>0.392883</td>\n",
       "    </tr>\n",
       "  </tbody>\n",
       "</table>\n",
       "</div>"
      ],
      "text/plain": [
       "   silhouette_score  calinski_harabasz_score  davies_bouldin_score\n",
       "0          0.711969            110170.465251              0.431088\n",
       "1          0.586981             56862.283600              0.791631\n",
       "2          0.583541             25696.492640              0.742961\n",
       "3          0.715206            109045.054576              0.391941\n",
       "4          0.715466            109405.879470              0.392883"
      ]
     },
     "execution_count": 97,
     "metadata": {},
     "output_type": "execute_result"
    }
   ],
   "source": [
    "from sklearn.cluster import Birch\n",
    "\n",
    "# Votre code pour utiliser la classe Birch ici\n",
    "\n",
    "hyper_sil_brc = []\n",
    "hyper_dav_brc = []\n",
    "hyper_cal_brc = []\n",
    "\n",
    "for x in [0.05, 0.1,0.2,0.3,0.4]:\n",
    " \n",
    "    cluster_brc_c = Birch(branching_factor = 200, n_clusters= 3, threshold= x)\n",
    "    labels_brc = cluster_brc_c.fit(X_scaled_bis).labels_\n",
    "    hyper_sil_brc.append(silhouette_score(X_scaled_bis, labels_brc))\n",
    "    hyper_dav_brc.append(davies_bouldin_score(X_scaled_bis, labels_brc))\n",
    "    hyper_cal_brc.append(calinski_harabasz_score(X_scaled_bis, labels_brc))\n",
    "scores_brc = pd.DataFrame()\n",
    "scores_brc['silhouette_score'] = hyper_sil_brc\n",
    "scores_brc['calinski_harabasz_score'] = hyper_cal_brc\n",
    "scores_brc['davies_bouldin_score'] = hyper_dav_brc\n",
    "scores_brc\n",
    "    "
   ]
  },
  {
   "cell_type": "code",
   "execution_count": 98,
   "metadata": {},
   "outputs": [
    {
     "data": {
      "text/plain": [
       "Text(0.5, 1.0, 'Birch')"
      ]
     },
     "execution_count": 98,
     "metadata": {},
     "output_type": "execute_result"
    },
    {
     "data": {
      "image/png": "[encoded data removed]",
      "text/plain": [
       "<Figure size 640x480 with 1 Axes>"
      ]
     },
     "metadata": {},
     "output_type": "display_data"
    }
   ],
   "source": [
    "scores_brc['calinski_harabasz_score'] = (scores_brc['calinski_harabasz_score']-scores_brc['calinski_harabasz_score'].min())/(scores_brc['calinski_harabasz_score'].max()-scores_brc['calinski_harabasz_score'].min())\n",
    "scores_brc.plot()\n",
    "plt.xlabel(\"Interation with Threshlod values\")\n",
    "plt.ylabel(\"Values\")\n",
    "plt.title(\"Birch\")"
   ]
  },
  {
   "cell_type": "code",
   "execution_count": 96,
   "metadata": {},
   "outputs": [
    {
     "data": {
      "text/html": [
       "<div>\n",
       "<style scoped>\n",
       "    .dataframe tbody tr th:only-of-type {\n",
       "        vertical-align: middle;\n",
       "    }\n",
       "\n",
       "    .dataframe tbody tr th {\n",
       "        vertical-align: top;\n",
       "    }\n",
       "\n",
       "    .dataframe thead th {\n",
       "        text-align: right;\n",
       "    }\n",
       "</style>\n",
       "<table border=\"1\" class=\"dataframe\">\n",
       "  <thead>\n",
       "    <tr style=\"text-align: right;\">\n",
       "      <th></th>\n",
       "      <th>silhouette_score</th>\n",
       "      <th>calinski_harabasz_score</th>\n",
       "      <th>davies_bouldin_score</th>\n",
       "    </tr>\n",
       "  </thead>\n",
       "  <tbody>\n",
       "    <tr>\n",
       "      <th>0</th>\n",
       "      <td>0.715466</td>\n",
       "      <td>109405.87947</td>\n",
       "      <td>0.392883</td>\n",
       "    </tr>\n",
       "    <tr>\n",
       "      <th>1</th>\n",
       "      <td>0.715466</td>\n",
       "      <td>109405.87947</td>\n",
       "      <td>0.392883</td>\n",
       "    </tr>\n",
       "    <tr>\n",
       "      <th>2</th>\n",
       "      <td>0.715466</td>\n",
       "      <td>109405.87947</td>\n",
       "      <td>0.392883</td>\n",
       "    </tr>\n",
       "    <tr>\n",
       "      <th>3</th>\n",
       "      <td>0.715466</td>\n",
       "      <td>109405.87947</td>\n",
       "      <td>0.392883</td>\n",
       "    </tr>\n",
       "  </tbody>\n",
       "</table>\n",
       "</div>"
      ],
      "text/plain": [
       "   silhouette_score  calinski_harabasz_score  davies_bouldin_score\n",
       "0          0.715466             109405.87947              0.392883\n",
       "1          0.715466             109405.87947              0.392883\n",
       "2          0.715466             109405.87947              0.392883\n",
       "3          0.715466             109405.87947              0.392883"
      ]
     },
     "execution_count": 96,
     "metadata": {},
     "output_type": "execute_result"
    }
   ],
   "source": [
    "hyper_sil_brc = []\n",
    "hyper_dav_brc = []\n",
    "hyper_cal_brc = []\n",
    "\n",
    "for x in [20,200,2000,20000]:\n",
    "    cluster_brc_c = Birch(branching_factor = x, n_clusters= 3, threshold= 0.4)\n",
    "    labels_brc = cluster_brc_c.fit(X_scaled_bis).labels_\n",
    "    hyper_sil_brc.append(silhouette_score(X_scaled_bis, labels_brc))\n",
    "    hyper_dav_brc.append(davies_bouldin_score(X_scaled_bis, labels_brc))\n",
    "    hyper_cal_brc.append(calinski_harabasz_score(X_scaled_bis, labels_brc))\n",
    "scores_brc = pd.DataFrame()\n",
    "scores_brc['silhouette_score'] = hyper_sil_brc\n",
    "scores_brc['calinski_harabasz_score'] = hyper_cal_brc\n",
    "scores_brc['davies_bouldin_score'] = hyper_dav_brc\n",
    "scores_brc"
   ]
  },
  {
   "cell_type": "code",
   "execution_count": 16,
   "metadata": {},
   "outputs": [
    {
     "data": {
      "text/plain": [
       "Text(0.5, 1.0, 'Birch')"
      ]
     },
     "execution_count": 16,
     "metadata": {},
     "output_type": "execute_result"
    },
    {
     "data": {
      "image/png": "[encoded data removed]",
      "text/plain": [
       "<Figure size 640x480 with 1 Axes>"
      ]
     },
     "metadata": {},
     "output_type": "display_data"
    }
   ],
   "source": [
    "scores_brc['calinski_harabasz_score'] = (scores_brc['calinski_harabasz_score']-scores_brc['calinski_harabasz_score'].min())/(scores_brc['calinski_harabasz_score'].max()-scores_brc['calinski_harabasz_score'].min())\n",
    "scores_brc.plot()\n",
    "plt.xlabel(\"Interation with Threshlod values\")\n",
    "plt.ylabel(\"Values\")\n",
    "plt.title(\"Birch\")"
   ]
  },
  {
   "cell_type": "markdown",
   "metadata": {},
   "source": [
    "# <font color=\"#476bff\" id=\"section_6\">Stabilité temporelle de la segmentation</font>\n",
    "Dans le but d'établir un contrat de maintenance de l'algorithme de segmentation client, nous devons tester sa stabilité dans le temps et voir, par exemple, à quel moment les clients changent de Cluster.\n",
    "\n",
    "Pour cela, nous devons recalculer toutes les features en fonction d'une période donnée. "
   ]
  },
  {
   "cell_type": "code",
   "execution_count": 17,
   "metadata": {},
   "outputs": [],
   "source": [
    "numerical_columns = ['freight_value', 'review_score_mean','frequency', 'recency',  'avg_comment_log','estimated_duration_days','shipping_duration_days', 'order_line_cube_in_ltr','total_payment_log']\n",
    "\n"
   ]
  },
  {
   "cell_type": "code",
   "execution_count": 18,
   "metadata": {},
   "outputs": [
    {
     "data": {
      "text/plain": [
       "['freight_value',\n",
       " 'review_score_mean',\n",
       " 'frequency',\n",
       " 'recency',\n",
       " 'avg_comment_log',\n",
       " 'estimated_duration_days',\n",
       " 'shipping_duration_days',\n",
       " 'order_line_cube_in_ltr',\n",
       " 'total_payment_log']"
      ]
     },
     "execution_count": 18,
     "metadata": {},
     "output_type": "execute_result"
    }
   ],
   "source": [
    "numerical_columns"
   ]
  },
  {
   "cell_type": "code",
   "execution_count": 117,
   "metadata": {},
   "outputs": [],
   "source": [
    "\n",
    "from math import radians, cos, sin, asin, sqrt\n",
    "from time import time\n",
    "import pandas as pd\n",
    "import numpy as np\n",
    "from P5_Openclassroom_Functions import  *\n",
    "from sklearn.impute import SimpleImputer\n",
    "def make_dataset(dpath=\"data/\", initial=False, period=2):\n",
    "    \"\"\"Cleaning and feature engineering on complete Olist data \n",
    "        for preparation of unsupervised classification (K-Means).\n",
    "\n",
    "    Parameters\n",
    "    ----------\n",
    "    dpath : str\n",
    "        Path to the directory containing the data.\n",
    "    initial : boolean\n",
    "        Defines whether the created dataset is the initial dataset.\n",
    "    period : int\n",
    "        Increment period in months after initial dataset.\n",
    "    \"\"\"\n",
    "    start_time = time()\n",
    "    print(\"Création du dataset en cours ...\")\n",
    "    \n",
    "    # Root path\n",
    "    root_path = dpath\n",
    "    \n",
    "    # Load datasets\n",
    "    df_customers = pd.read_csv(root_path + \"olist_customers_dataset.csv\")\n",
    "    df_geolocation = pd.read_csv(root_path + \"olist_geolocation_dataset.csv\")\n",
    "    df_orders = pd.read_csv(root_path + \"olist_orders_dataset.csv\")\n",
    "    df_order_items = pd.read_csv(root_path + \"olist_order_items_dataset.csv\")\n",
    "    df_payments = pd.read_csv(root_path + \"olist_order_payments_dataset.csv\")\n",
    "    df_reviews = pd.read_csv(root_path + \"olist_order_reviews_dataset.csv\")\n",
    "    df_products = pd.read_csv(root_path + \"olist_products_dataset.csv\")\n",
    "    df_translations = pd.read_csv(root_path + \"product_category_name_translation.csv\")\n",
    "    \n",
    "    # Merge datasets\n",
    "    # ## Preparation la table Orders\n",
    " \n",
    "    df_orders['order_time'] = pd.to_datetime(df_orders['order_purchase_timestamp']).dt.time\n",
    "    df_orders['delivery_time'] = pd.to_datetime(df_orders['order_delivered_carrier_date']).dt.time\n",
    "    convert_to_dt(df_orders, ['order_purchase_timestamp', 'order_approved_at', 'order_delivered_carrier_date', 'order_delivered_customer_date', 'order_estimated_delivery_date'])\n",
    "    df_orders.sort_values(by = 'order_purchase_timestamp', inplace = True)\n",
    "    datetime_cols = [\"order_purchase_timestamp\", \n",
    "                     \"order_delivered_customer_date\"]\n",
    "    for col in datetime_cols:\n",
    "      df_orders[col] = df_orders[col].astype('datetime64[ns]')\n",
    "     ## Select orders on period\n",
    "    start=df_orders[\"order_purchase_timestamp\"].min()\n",
    "    if(initial == True):\n",
    "        period = 12\n",
    "    else:\n",
    "        period = 12+period\n",
    "    stop=start + pd.DateOffset(months=period)\n",
    "    print(\"start period : \",start)  \n",
    "    print(\"stop period  : \" ,stop)         \n",
    "    df_orders = df_orders[(df_orders[\"order_purchase_timestamp\"]>=start)\n",
    "                              & (df_orders[\"order_purchase_timestamp\"]<stop)]\n",
    "       \n",
    "    # List of orders on period\n",
    "    period_orders = df_orders.order_id.unique()\n",
    "    df_orders[df_orders['order_id'].isin(period_orders)]\n",
    "    df_order_items[df_order_items['order_id'].isin(period_orders)]\n",
    "  \n",
    "   # Assuming df_orders is your DataFrame\n",
    "    # Convert the datetime columns to Pandas datetime objects if they are not already\n",
    "    df_orders['order_estimated_delivery_date'] = pd.to_datetime(df_orders['order_estimated_delivery_date'])\n",
    "    df_orders['order_delivered_customer_date'] = pd.to_datetime(df_orders['order_delivered_customer_date'])\n",
    "    df_orders['order_estimated_delivery_date'] = pd.to_datetime(df_orders['order_estimated_delivery_date'])\n",
    "    # Calculate the time difference and store it in a new column\n",
    "    df_orders['shipping_time_delta'] = df_orders['order_estimated_delivery_date'] - df_orders['order_delivered_customer_date']\n",
    "    df_orders['shipping_duration'] = df_orders['order_delivered_customer_date'] - df_orders['order_purchase_timestamp']\n",
    "    df_orders['estimated_duration'] = df_orders['order_estimated_delivery_date'] - df_orders['order_purchase_timestamp']\n",
    "      ## Preparation la table OrderItems\n",
    "    df_order_items_consolidated = df_order_items\\\n",
    "    .groupby(by = ['product_id','order_id'], as_index=False)\\\n",
    "    .agg({\n",
    "        'order_item_id': 'count', \n",
    "        'seller_id': 'first',\n",
    "        'shipping_limit_date': 'first',\n",
    "        'price': 'first',\n",
    "        'freight_value': 'first'\n",
    "        })\n",
    "    df_order_items_consolidated[df_order_items_consolidated['order_item_id']>1]\n",
    "    # Renaming new quantity column\n",
    "    df_order_items_consolidated\\\n",
    "    .rename(columns = {'order_item_id': 'qty'}, inplace = True)\n",
    "    df_order_items_consolidated = df_orders\\\n",
    "    .merge(df_order_items_consolidated, on = 'order_id')\n",
    "  \n",
    "       \n",
    "   \n",
    " \n",
    "    #table Product\n",
    "    df_order_items_consolidated = df_order_items_consolidated\\\n",
    "    .merge(df_products, on = 'product_id')\n",
    "    subst_mean(df_order_items_consolidated, [\n",
    "    'product_length_cm',\n",
    "    'product_weight_g',\n",
    "    'product_height_cm',\n",
    "    'product_width_cm'\n",
    "    ])\n",
    "    df_order_items_consolidated['order_line_cube_in_ltr']\\\n",
    "    = df_order_items_consolidated['product_length_cm']\\\n",
    "    *df_order_items_consolidated['product_height_cm']\\\n",
    "    *df_order_items_consolidated['product_width_cm']\\\n",
    "    *df_order_items_consolidated['qty'] /1000\n",
    "    ## Preparation la table Customer\n",
    "    # Creating a customer dictionary as a lookup source\n",
    "    df_customer_data_mart=df_order_items_consolidated.copy()\n",
    "    dict_customer = df_customers.set_index('customer_id').to_dict()['customer_unique_id']\n",
    "    df_customer_data_mart['customer_unique_id'] = df_customer_data_mart['customer_id'].map(dict_customer)\n",
    "    df_customer_data_mart = df_customer_data_mart.merge(df_customers[['customer_unique_id','customer_city','customer_state']], how = 'inner', left_on = 'customer_unique_id', right_on = 'customer_unique_id')  \n",
    "    df_customer_data_mart = df_customer_data_mart.rename(columns={\"customer_city\": \"city\"})\n",
    "    df_customer_data_mart = df_customer_data_mart.rename(columns={\"customer_state\": \"state\"})\n",
    "    ## Preparation la table Translations\n",
    "    # adding the english procuct category name to the products list\n",
    "    df_products = df_products.merge(df_translations, on='product_category_name', how='left')\n",
    "    # Adding manually translations\n",
    "    df_products['product_category_name_english'] = np.where(df_products[\n",
    "    'product_category_name']=='pc_gamer',\n",
    "    'pc_games',\n",
    "    df_products['product_category_name_english'\n",
    "    ])\n",
    "    df_products['product_category_name_english'] = np.where(df_products[\n",
    "    'product_category_name']=='portateis_cozinha_e_preparadores_de_alimentos',\n",
    "    'portable_cooking_ware',\n",
    "    df_products['product_category_name_english'\n",
    "    ])\n",
    "    dict_tranlate = df_products.set_index('product_category_name')\\\n",
    "    .to_dict()['product_category_name_english']\n",
    "    df_customer_data_mart['product_category_name_english']\\\n",
    "    = df_customer_data_mart['product_category_name'].map(dict_tranlate)\n",
    "    df_customer_data_mart[['product_category_name', 'product_category_name_english']]\n",
    "    ## Preparation la table payements\n",
    "    df_customer_data_mart = df_customer_data_mart.merge(df_payments[['payment_type','order_id']], how = 'left',on='order_id') \n",
    "    ## Preparation la table order review\n",
    "    imputerSimpleReview = SimpleImputer(strategy='constant', fill_value='')\n",
    "    df_reviews.loc[:,['review_comment_title', 'review_comment_message']] = imputerSimpleReview.fit_transform(df_reviews.loc[:,['review_comment_title', 'review_comment_message']])\n",
    "    df_reviews['length_reviews_comment'] = df_reviews['review_comment_message'].map(len)\n",
    "    df_reviews['count_comment'] = pd.Series([1 if x >0 else 0 for x in df_reviews['review_comment_message'].map(len)])\n",
    "    df_reviews['number_reviews'] = df_reviews.groupby('order_id').count_comment.transform('nunique') \n",
    "    df_customer_data_mart = df_customer_data_mart.merge(df_reviews.groupby('order_id')['length_reviews_comment'].agg('mean'),how='left',on='order_id')\n",
    "    df_customer_data_mart = df_customer_data_mart.merge(df_reviews.groupby('order_id')['number_reviews'].agg('mean'),how='left',on='order_id')\n",
    "    df_customer_data_mart['avg_comment'] = df_customer_data_mart['length_reviews_comment']/df_customer_data_mart['number_reviews']\n",
    "    df_customer_data_mart.drop(['length_reviews_comment', 'number_reviews'], axis=1, inplace=True)\n",
    "    df_customer_data_mart = df_customer_data_mart.merge(df_reviews[['order_id','review_score']], how = 'inner', left_on = 'order_id', right_on = 'order_id')  \n",
    "    ## Preparation la table geolocation\n",
    "    dict_cust_zip = df_customers.set_index('customer_id').to_dict()['customer_zip_code_prefix']\n",
    "    dict_lat = df_geolocation.set_index('geolocation_zip_code_prefix').to_dict()['geolocation_lat']\n",
    "    dict_lng = df_geolocation.set_index('geolocation_zip_code_prefix').to_dict()['geolocation_lng']\n",
    "    df_customer_data_mart['geolocation_zip_code_prefix']\\\n",
    "    = df_customer_data_mart['customer_id'].map(dict_cust_zip)\n",
    "    # Adding coordinates and color code to the dataframe\n",
    "    df_customer_data_mart['geolocation_lat']\\\n",
    "    = df_customer_data_mart['geolocation_zip_code_prefix'].map(dict_lat)\n",
    "    df_customer_data_mart['geolocation_lng']\\\n",
    "    = df_customer_data_mart['geolocation_zip_code_prefix'].map(dict_lng)\n",
    "    # Olist location\n",
    "    olist_lat = -25.43045\n",
    "    olist_lon = -49.29207\n",
    "    df_customer_data_mart['harvesine_distance'] = [haversine_distance(olist_lat, olist_lon, x, y) \n",
    "                              for x, y in zip(df_customer_data_mart.geolocation_lat, \n",
    "                                              df_customer_data_mart.geolocation_lng)]\n",
    "    latestdate = np.max(df_customer_data_mart['order_purchase_timestamp'])\n",
    "    df_customer_data_mart['recency'] = df_customer_data_mart['order_purchase_timestamp'].apply(lambda x: (latestdate - x).days)\n",
    "    df_customer_data_mart['total_price'] = df_customer_data_mart['qty'] * df_customer_data_mart['price']+df_customer_data_mart['freight_value']\n",
    "    gb_products_bought = df_customer_data_mart.groupby(['customer_unique_id']).agg({'total_price':'sum', 'review_score':'mean',  'order_id':'count','order_line_cube_in_ltr':'sum'}).reset_index()\n",
    "    gb_products_bought.rename(columns={\n",
    "    'order_id': 'frequency',\n",
    "    'review_score': 'review_score_mean',\n",
    "    'total_price': 'total_payment'   \n",
    "    }, inplace=True)\n",
    "    # Fusionner les DataFrames sur la colonne 'customer_unique_id'\n",
    "    df_customer_data_mart = df_customer_data_mart.merge(gb_products_bought[['customer_unique_id', 'total_payment', 'review_score_mean', 'frequency']], \n",
    "                                                      how='inner', \n",
    "                                                      on='customer_unique_id')\n",
    "\n",
    "    df_customer_data_mart['product_category'] = df_customer_data_mart['product_category_name_english'].apply(classify_cat)\n",
    "    df_customer_data_mart['product_category_encoded'] = df_customer_data_mart['product_category'].astype('category').cat.codes\n",
    "    # Convertir la colonne payment_type_encoded en int\n",
    "    df_customer_data_mart['product_category_encoded'] = df_customer_data_mart['product_category_encoded'].astype(int)\n",
    "    df_customer_data_mart['payment_type_encoded'] = df_customer_data_mart['payment_type'].astype('category').cat.codes\n",
    "    # Convertir la colonne payment_type_encoded en int\n",
    "    df_customer_data_mart['payment_type_encoded'] = df_customer_data_mart['payment_type_encoded'].astype(int)\n",
    "    df_customer_data_mart['shipping_duration'] = pd.to_timedelta(df_customer_data_mart['shipping_duration'])\n",
    "    # Extraire le nombre de jours à partir de l'objet timedelta\n",
    "    df_customer_data_mart['shipping_duration_days'] = df_customer_data_mart['shipping_duration'].dt.days\n",
    "    # Convertir la colonne 'shipping_duration' en un objet timedelta\n",
    "    df_customer_data_mart['estimated_duration'] = pd.to_timedelta(df_customer_data_mart['estimated_duration'])\n",
    "    # Extraire le nombre de jours à partir de l'objet timedelta\n",
    "    df_customer_data_mart['estimated_duration_days'] = df_customer_data_mart['estimated_duration'].dt.days\n",
    "    df_customer_data_mart['estimated_duration_log'] = np.log(df_customer_data_mart['estimated_duration_days'])\n",
    "    df_customer_data_mart['shipping_duration_log'] = np.log(df_customer_data_mart['shipping_duration_days']+1e-10)\n",
    "    df_customer_data_mart['order_line_cube_in_ltr_log'] = np.log(df_customer_data_mart['order_line_cube_in_ltr'])\n",
    "    df_customer_data_mart['price_log'] = np.log(df_customer_data_mart['price'])\n",
    "    df_customer_data_mart['avg_comment_log'] = np.log(df_customer_data_mart['avg_comment']+1e-10)\n",
    "    df_customer_data_mart['total_payment_log'] = np.log(df_customer_data_mart['total_payment'])\n",
    "    df_customer_data_mart['recency_log'] = np.log(df_customer_data_mart['recency'])\n",
    "    \n",
    "    '''['freight_value',\n",
    " 'review_score_mean',\n",
    " 'frequency',\n",
    " 'recency',\n",
    " 'avg_comment_log',\n",
    " 'estimated_duration_days',\n",
    " 'shipping_duration_days',\n",
    " 'order_line_cube_in_ltr',\n",
    " 'total_payment_log']'''\n",
    "    \n",
    "    # Group datas by unique customers\n",
    "    data = df_customer_data_mart.groupby([\"customer_unique_id\"]).agg(\n",
    "        freight_value=pd.NamedAgg(column=\"freight_value\", aggfunc=\"sum\"),\n",
    "        review_score_mean=pd.NamedAgg(column=\"review_score_mean\", aggfunc=\"mean\"),\n",
    "        frequency=pd.NamedAgg(column=\"frequency\", aggfunc=\"sum\"),\n",
    "        recency=pd.NamedAgg(column=\"recency\", aggfunc=\"sum\"),\n",
    "        avg_comment_log=pd.NamedAgg(column=\"avg_comment_log\", aggfunc=\"mean\"),\n",
    "        estimated_duration_days=pd.NamedAgg(column=\"estimated_duration_days\", aggfunc=\"mean\"),\n",
    "        shipping_duration_days=pd.NamedAgg(column=\"shipping_duration_days\", aggfunc=\"mean\"),\n",
    "        order_line_cube_in_ltr=pd.NamedAgg(column=\"order_line_cube_in_ltr\", aggfunc=\"sum\"),\n",
    "        total_payment_log=pd.NamedAgg(column=\"total_payment_log\", aggfunc=\"sum\"))\n",
    "        \n",
    "    \n",
    "\n",
    "    \n",
    "    # complete missing values\n",
    "    features_to_fill = data.isnull().sum()\n",
    "    features_to_fill = list(features_to_fill[features_to_fill.values > 0].index)\n",
    "    print(\"features_to_fill :\",features_to_fill)\n",
    " \n",
    "    end_time = time()\n",
    "    print(\"Durée d'execution du Feature engineering : {:.2f}s\".format(end_time - start_time))\n",
    "    \n",
    "    return data"
   ]
  },
  {
   "cell_type": "code",
   "execution_count": 118,
   "metadata": {},
   "outputs": [
    {
     "name": "stdout",
     "output_type": "stream",
     "text": [
      "Création du dataset en cours ...\n",
      "start period :  2017-01-05 00:00:00\n",
      "stop period  :  2018-01-05 00:00:00\n"
     ]
    },
    {
     "name": "stderr",
     "output_type": "stream",
     "text": [
      "c:\\ProgramData\\anaconda3\\lib\\site-packages\\sklearn\\utils\\validation.py:767: FutureWarning:\n",
      "\n",
      "is_sparse is deprecated and will be removed in a future version. Check `isinstance(dtype, pd.SparseDtype)` instead.\n",
      "\n",
      "c:\\ProgramData\\anaconda3\\lib\\site-packages\\sklearn\\utils\\validation.py:605: FutureWarning:\n",
      "\n",
      "is_sparse is deprecated and will be removed in a future version. Check `isinstance(dtype, pd.SparseDtype)` instead.\n",
      "\n",
      "c:\\ProgramData\\anaconda3\\lib\\site-packages\\sklearn\\utils\\validation.py:614: FutureWarning:\n",
      "\n",
      "is_sparse is deprecated and will be removed in a future version. Check `isinstance(dtype, pd.SparseDtype)` instead.\n",
      "\n",
      "c:\\ProgramData\\anaconda3\\lib\\site-packages\\sklearn\\utils\\validation.py:767: FutureWarning:\n",
      "\n",
      "is_sparse is deprecated and will be removed in a future version. Check `isinstance(dtype, pd.SparseDtype)` instead.\n",
      "\n",
      "c:\\ProgramData\\anaconda3\\lib\\site-packages\\sklearn\\utils\\validation.py:605: FutureWarning:\n",
      "\n",
      "is_sparse is deprecated and will be removed in a future version. Check `isinstance(dtype, pd.SparseDtype)` instead.\n",
      "\n",
      "c:\\ProgramData\\anaconda3\\lib\\site-packages\\sklearn\\utils\\validation.py:614: FutureWarning:\n",
      "\n",
      "is_sparse is deprecated and will be removed in a future version. Check `isinstance(dtype, pd.SparseDtype)` instead.\n",
      "\n"
     ]
    },
    {
     "name": "stdout",
     "output_type": "stream",
     "text": [
      "______________________________________________________\n",
      "Features complétées avec la valeur la plus fréquente :\n",
      "______________________________________________________\n",
      "shipping_duration_days \t 8.0\n",
      "______________________________________________________\n",
      "Durée d'execution du Feature engineering : 8.72s\n"
     ]
    },
    {
     "name": "stderr",
     "output_type": "stream",
     "text": [
      "C:\\Users\\User\\AppData\\Roaming\\Python\\Python310\\site-packages\\pandas\\core\\arraylike.py:396: RuntimeWarning:\n",
      "\n",
      "divide by zero encountered in log\n",
      "\n"
     ]
    }
   ],
   "source": [
    "# Initial period of 12 months\n",
    "data_init = make_dataset(dpath=\"../data/\", initial=True, period=2)"
   ]
  },
  {
   "cell_type": "code",
   "execution_count": 101,
   "metadata": {},
   "outputs": [
    {
     "name": "stdout",
     "output_type": "stream",
     "text": [
      "Nombre de duplicatas dans la colonne 'customer_unique_id' : 23\n"
     ]
    }
   ],
   "source": [
    "nombre_de_duplicatas = data_init.duplicated().sum()\n",
    "print(\"Nombre de duplicatas dans la colonne 'customer_unique_id' :\", nombre_de_duplicatas)"
   ]
  },
  {
   "cell_type": "code",
   "execution_count": 102,
   "metadata": {},
   "outputs": [
    {
     "data": {
      "text/plain": [
       "(43594, 9)"
      ]
     },
     "execution_count": 102,
     "metadata": {},
     "output_type": "execute_result"
    }
   ],
   "source": [
    "data_init.shape"
   ]
  },
  {
   "cell_type": "code",
   "execution_count": 103,
   "metadata": {},
   "outputs": [
    {
     "name": "stdout",
     "output_type": "stream",
     "text": [
      "Lignes en double :\n",
      " freight_value              23\n",
      "review_score_mean          23\n",
      "frequency                  23\n",
      "recency                    23\n",
      "avg_comment_log            23\n",
      "estimated_duration_days    23\n",
      "shipping_duration_days     23\n",
      "order_line_cube_in_ltr     23\n",
      "total_payment_log          23\n",
      "dtype: int64\n"
     ]
    }
   ],
   "source": [
    "duplicates = data_init[data_init.duplicated()]\n",
    "\n",
    "# Affichez les lignes en double\n",
    "print(\"Lignes en double :\\n\", duplicates.count())"
   ]
  },
  {
   "cell_type": "markdown",
   "metadata": {},
   "source": [
    "Nous allons ensuite déterminer la période totale à couvrir :"
   ]
  },
  {
   "cell_type": "code",
   "execution_count": 119,
   "metadata": {},
   "outputs": [
    {
     "name": "stdout",
     "output_type": "stream",
     "text": [
      "La période complète des commandes porte sur 23.770462577160494 mois.\n"
     ]
    }
   ],
   "source": [
    "olist_path = \"../data/\"\n",
    "orders = pd.read_csv(olist_path+\"olist_orders_dataset.csv\")\n",
    "orders = orders.loc[orders.order_status == \"delivered\", \n",
    "                    \"order_purchase_timestamp\"]\n",
    "\n",
    "orders = pd.to_datetime(orders)\n",
    "\n",
    "# Calculer la durée en mois\n",
    "time_delta = (orders.max() - orders.min()) / pd.Timedelta(days=30)\n",
    "\n",
    "\n",
    "print(\"La période complète des commandes porte sur {} mois.\".format(time_delta))"
   ]
  },
  {
   "cell_type": "markdown",
   "metadata": {},
   "source": [
    "Pour déterminer le moment où les clients changent de cluster, nous allons **itérer le K-Means sur toute la période avec des deltas de 2 mois et calculer le score ARI**, en prenant garde à bien comparer les mêmes clients *(ceux des 12 mois initiaux)*. \n",
    "\n",
    "*Ici le déroulé est créé directement dans le notebook pour explication, en production, toutes ses opérations seront regroupées dans une classe Python pour automatiser le processus.*"
   ]
  },
  {
   "cell_type": "code",
   "execution_count": 128,
   "metadata": {},
   "outputs": [
    {
     "name": "stderr",
     "output_type": "stream",
     "text": [
      "c:\\ProgramData\\anaconda3\\lib\\site-packages\\sklearn\\utils\\validation.py:767: FutureWarning:\n",
      "\n",
      "is_sparse is deprecated and will be removed in a future version. Check `isinstance(dtype, pd.SparseDtype)` instead.\n",
      "\n",
      "c:\\ProgramData\\anaconda3\\lib\\site-packages\\sklearn\\utils\\validation.py:605: FutureWarning:\n",
      "\n",
      "is_sparse is deprecated and will be removed in a future version. Check `isinstance(dtype, pd.SparseDtype)` instead.\n",
      "\n",
      "c:\\ProgramData\\anaconda3\\lib\\site-packages\\sklearn\\utils\\validation.py:614: FutureWarning:\n",
      "\n",
      "is_sparse is deprecated and will be removed in a future version. Check `isinstance(dtype, pd.SparseDtype)` instead.\n",
      "\n",
      "c:\\ProgramData\\anaconda3\\lib\\site-packages\\sklearn\\utils\\validation.py:767: FutureWarning:\n",
      "\n",
      "is_sparse is deprecated and will be removed in a future version. Check `isinstance(dtype, pd.SparseDtype)` instead.\n",
      "\n",
      "c:\\ProgramData\\anaconda3\\lib\\site-packages\\sklearn\\utils\\validation.py:605: FutureWarning:\n",
      "\n",
      "is_sparse is deprecated and will be removed in a future version. Check `isinstance(dtype, pd.SparseDtype)` instead.\n",
      "\n",
      "c:\\ProgramData\\anaconda3\\lib\\site-packages\\sklearn\\utils\\validation.py:614: FutureWarning:\n",
      "\n",
      "is_sparse is deprecated and will be removed in a future version. Check `isinstance(dtype, pd.SparseDtype)` instead.\n",
      "\n"
     ]
    },
    {
     "data": {
      "text/html": [
       "<div>\n",
       "<style scoped>\n",
       "    .dataframe tbody tr th:only-of-type {\n",
       "        vertical-align: middle;\n",
       "    }\n",
       "\n",
       "    .dataframe tbody tr th {\n",
       "        vertical-align: top;\n",
       "    }\n",
       "\n",
       "    .dataframe thead th {\n",
       "        text-align: right;\n",
       "    }\n",
       "</style>\n",
       "<table border=\"1\" class=\"dataframe\">\n",
       "  <thead>\n",
       "    <tr style=\"text-align: right;\">\n",
       "      <th></th>\n",
       "      <th>silhouette_score</th>\n",
       "      <th>calinski_harabasz_score</th>\n",
       "      <th>davies_bouldin_score</th>\n",
       "    </tr>\n",
       "  </thead>\n",
       "  <tbody>\n",
       "    <tr>\n",
       "      <th>0</th>\n",
       "      <td>0.645868</td>\n",
       "      <td>54194.811841</td>\n",
       "      <td>0.909426</td>\n",
       "    </tr>\n",
       "  </tbody>\n",
       "</table>\n",
       "</div>"
      ],
      "text/plain": [
       "   silhouette_score  calinski_harabasz_score  davies_bouldin_score\n",
       "0          0.645868             54194.811841              0.909426"
      ]
     },
     "execution_count": 128,
     "metadata": {},
     "output_type": "execute_result"
    }
   ],
   "source": [
    "from sklearn.cluster import Birch\n",
    "\n",
    "# Votre code pour utiliser la classe Birch ici\n",
    "\n",
    "hyper_sil_brc = []\n",
    "hyper_dav_brc = []\n",
    "hyper_cal_brc = []\n",
    "scaler = MinMaxScaler()\n",
    "X_scaled_bis = scaler.fit_transform(data_init)\n",
    "\n",
    "cluster_brc_c = Birch(branching_factor = 200, n_clusters= 10, threshold= 0.1)\n",
    "labels_brc = cluster_brc_c.fit(X_scaled_bis).labels_\n",
    "hyper_sil_brc.append(silhouette_score(X_scaled_bis, labels_brc))\n",
    "hyper_dav_brc.append(davies_bouldin_score(X_scaled_bis, labels_brc))\n",
    "hyper_cal_brc.append(calinski_harabasz_score(X_scaled_bis, labels_brc))\n",
    "scores_brc = pd.DataFrame()\n",
    "scores_brc['silhouette_score'] = hyper_sil_brc\n",
    "scores_brc['calinski_harabasz_score'] = hyper_cal_brc\n",
    "scores_brc['davies_bouldin_score'] = hyper_dav_brc\n",
    "scores_brc"
   ]
  },
  {
   "cell_type": "code",
   "execution_count": 121,
   "metadata": {},
   "outputs": [
    {
     "data": {
      "text/plain": [
       "(43594, 9)"
      ]
     },
     "execution_count": 121,
     "metadata": {},
     "output_type": "execute_result"
    }
   ],
   "source": [
    "data_init.shape"
   ]
  },
  {
   "cell_type": "code",
   "execution_count": 131,
   "metadata": {},
   "outputs": [
    {
     "name": "stdout",
     "output_type": "stream",
     "text": [
      "Création du dataset en cours ...\n",
      "start period :  2017-01-05 00:00:00\n",
      "stop period  :  2018-03-05 00:00:00\n"
     ]
    },
    {
     "name": "stderr",
     "output_type": "stream",
     "text": [
      "c:\\ProgramData\\anaconda3\\lib\\site-packages\\sklearn\\utils\\validation.py:767: FutureWarning:\n",
      "\n",
      "is_sparse is deprecated and will be removed in a future version. Check `isinstance(dtype, pd.SparseDtype)` instead.\n",
      "\n",
      "c:\\ProgramData\\anaconda3\\lib\\site-packages\\sklearn\\utils\\validation.py:605: FutureWarning:\n",
      "\n",
      "is_sparse is deprecated and will be removed in a future version. Check `isinstance(dtype, pd.SparseDtype)` instead.\n",
      "\n",
      "c:\\ProgramData\\anaconda3\\lib\\site-packages\\sklearn\\utils\\validation.py:614: FutureWarning:\n",
      "\n",
      "is_sparse is deprecated and will be removed in a future version. Check `isinstance(dtype, pd.SparseDtype)` instead.\n",
      "\n",
      "c:\\ProgramData\\anaconda3\\lib\\site-packages\\sklearn\\utils\\validation.py:767: FutureWarning:\n",
      "\n",
      "is_sparse is deprecated and will be removed in a future version. Check `isinstance(dtype, pd.SparseDtype)` instead.\n",
      "\n",
      "c:\\ProgramData\\anaconda3\\lib\\site-packages\\sklearn\\utils\\validation.py:605: FutureWarning:\n",
      "\n",
      "is_sparse is deprecated and will be removed in a future version. Check `isinstance(dtype, pd.SparseDtype)` instead.\n",
      "\n",
      "c:\\ProgramData\\anaconda3\\lib\\site-packages\\sklearn\\utils\\validation.py:614: FutureWarning:\n",
      "\n",
      "is_sparse is deprecated and will be removed in a future version. Check `isinstance(dtype, pd.SparseDtype)` instead.\n",
      "\n",
      "C:\\Users\\User\\AppData\\Roaming\\Python\\Python310\\site-packages\\pandas\\core\\arraylike.py:396: RuntimeWarning:\n",
      "\n",
      "divide by zero encountered in log\n",
      "\n",
      "c:\\ProgramData\\anaconda3\\lib\\site-packages\\sklearn\\utils\\validation.py:767: FutureWarning:\n",
      "\n",
      "is_sparse is deprecated and will be removed in a future version. Check `isinstance(dtype, pd.SparseDtype)` instead.\n",
      "\n",
      "c:\\ProgramData\\anaconda3\\lib\\site-packages\\sklearn\\utils\\validation.py:605: FutureWarning:\n",
      "\n",
      "is_sparse is deprecated and will be removed in a future version. Check `isinstance(dtype, pd.SparseDtype)` instead.\n",
      "\n",
      "c:\\ProgramData\\anaconda3\\lib\\site-packages\\sklearn\\utils\\validation.py:614: FutureWarning:\n",
      "\n",
      "is_sparse is deprecated and will be removed in a future version. Check `isinstance(dtype, pd.SparseDtype)` instead.\n",
      "\n"
     ]
    },
    {
     "name": "stdout",
     "output_type": "stream",
     "text": [
      "______________________________________________________\n",
      "Features complétées avec la valeur la plus fréquente :\n",
      "______________________________________________________\n",
      "shipping_duration_days \t 8.0\n",
      "______________________________________________________\n",
      "Durée d'execution du Feature engineering : 9.49s\n",
      "la taille de period_data  (57109, 9)\n"
     ]
    },
    {
     "name": "stderr",
     "output_type": "stream",
     "text": [
      "c:\\ProgramData\\anaconda3\\lib\\site-packages\\sklearn\\utils\\validation.py:767: FutureWarning:\n",
      "\n",
      "is_sparse is deprecated and will be removed in a future version. Check `isinstance(dtype, pd.SparseDtype)` instead.\n",
      "\n",
      "c:\\ProgramData\\anaconda3\\lib\\site-packages\\sklearn\\utils\\validation.py:605: FutureWarning:\n",
      "\n",
      "is_sparse is deprecated and will be removed in a future version. Check `isinstance(dtype, pd.SparseDtype)` instead.\n",
      "\n",
      "c:\\ProgramData\\anaconda3\\lib\\site-packages\\sklearn\\utils\\validation.py:614: FutureWarning:\n",
      "\n",
      "is_sparse is deprecated and will be removed in a future version. Check `isinstance(dtype, pd.SparseDtype)` instead.\n",
      "\n"
     ]
    },
    {
     "name": "stdout",
     "output_type": "stream",
     "text": [
      "le score pour  0.6525178101960956\n",
      "Création du dataset en cours ...\n",
      "start period :  2017-01-05 00:00:00\n",
      "stop period  :  2018-05-05 00:00:00\n"
     ]
    },
    {
     "name": "stderr",
     "output_type": "stream",
     "text": [
      "c:\\ProgramData\\anaconda3\\lib\\site-packages\\sklearn\\utils\\validation.py:767: FutureWarning:\n",
      "\n",
      "is_sparse is deprecated and will be removed in a future version. Check `isinstance(dtype, pd.SparseDtype)` instead.\n",
      "\n",
      "c:\\ProgramData\\anaconda3\\lib\\site-packages\\sklearn\\utils\\validation.py:605: FutureWarning:\n",
      "\n",
      "is_sparse is deprecated and will be removed in a future version. Check `isinstance(dtype, pd.SparseDtype)` instead.\n",
      "\n",
      "c:\\ProgramData\\anaconda3\\lib\\site-packages\\sklearn\\utils\\validation.py:614: FutureWarning:\n",
      "\n",
      "is_sparse is deprecated and will be removed in a future version. Check `isinstance(dtype, pd.SparseDtype)` instead.\n",
      "\n",
      "c:\\ProgramData\\anaconda3\\lib\\site-packages\\sklearn\\utils\\validation.py:767: FutureWarning:\n",
      "\n",
      "is_sparse is deprecated and will be removed in a future version. Check `isinstance(dtype, pd.SparseDtype)` instead.\n",
      "\n",
      "c:\\ProgramData\\anaconda3\\lib\\site-packages\\sklearn\\utils\\validation.py:605: FutureWarning:\n",
      "\n",
      "is_sparse is deprecated and will be removed in a future version. Check `isinstance(dtype, pd.SparseDtype)` instead.\n",
      "\n",
      "c:\\ProgramData\\anaconda3\\lib\\site-packages\\sklearn\\utils\\validation.py:614: FutureWarning:\n",
      "\n",
      "is_sparse is deprecated and will be removed in a future version. Check `isinstance(dtype, pd.SparseDtype)` instead.\n",
      "\n",
      "C:\\Users\\User\\AppData\\Roaming\\Python\\Python310\\site-packages\\pandas\\core\\arraylike.py:396: RuntimeWarning:\n",
      "\n",
      "divide by zero encountered in log\n",
      "\n",
      "c:\\ProgramData\\anaconda3\\lib\\site-packages\\sklearn\\utils\\validation.py:767: FutureWarning:\n",
      "\n",
      "is_sparse is deprecated and will be removed in a future version. Check `isinstance(dtype, pd.SparseDtype)` instead.\n",
      "\n",
      "c:\\ProgramData\\anaconda3\\lib\\site-packages\\sklearn\\utils\\validation.py:605: FutureWarning:\n",
      "\n",
      "is_sparse is deprecated and will be removed in a future version. Check `isinstance(dtype, pd.SparseDtype)` instead.\n",
      "\n",
      "c:\\ProgramData\\anaconda3\\lib\\site-packages\\sklearn\\utils\\validation.py:614: FutureWarning:\n",
      "\n",
      "is_sparse is deprecated and will be removed in a future version. Check `isinstance(dtype, pd.SparseDtype)` instead.\n",
      "\n",
      "c:\\ProgramData\\anaconda3\\lib\\site-packages\\sklearn\\utils\\validation.py:767: FutureWarning:\n",
      "\n",
      "is_sparse is deprecated and will be removed in a future version. Check `isinstance(dtype, pd.SparseDtype)` instead.\n",
      "\n",
      "c:\\ProgramData\\anaconda3\\lib\\site-packages\\sklearn\\utils\\validation.py:605: FutureWarning:\n",
      "\n",
      "is_sparse is deprecated and will be removed in a future version. Check `isinstance(dtype, pd.SparseDtype)` instead.\n",
      "\n",
      "c:\\ProgramData\\anaconda3\\lib\\site-packages\\sklearn\\utils\\validation.py:614: FutureWarning:\n",
      "\n",
      "is_sparse is deprecated and will be removed in a future version. Check `isinstance(dtype, pd.SparseDtype)` instead.\n",
      "\n"
     ]
    },
    {
     "name": "stdout",
     "output_type": "stream",
     "text": [
      "______________________________________________________\n",
      "Features complétées avec la valeur la plus fréquente :\n",
      "______________________________________________________\n",
      "shipping_duration_days \t 8.0\n",
      "______________________________________________________\n",
      "Durée d'execution du Feature engineering : 9.38s\n",
      "la taille de period_data  (70791, 9)\n",
      "le score pour  0.6615657141866399\n",
      "Création du dataset en cours ...\n",
      "start period :  2017-01-05 00:00:00\n",
      "stop period  :  2018-07-05 00:00:00\n"
     ]
    },
    {
     "name": "stderr",
     "output_type": "stream",
     "text": [
      "c:\\ProgramData\\anaconda3\\lib\\site-packages\\sklearn\\utils\\validation.py:767: FutureWarning:\n",
      "\n",
      "is_sparse is deprecated and will be removed in a future version. Check `isinstance(dtype, pd.SparseDtype)` instead.\n",
      "\n",
      "c:\\ProgramData\\anaconda3\\lib\\site-packages\\sklearn\\utils\\validation.py:605: FutureWarning:\n",
      "\n",
      "is_sparse is deprecated and will be removed in a future version. Check `isinstance(dtype, pd.SparseDtype)` instead.\n",
      "\n",
      "c:\\ProgramData\\anaconda3\\lib\\site-packages\\sklearn\\utils\\validation.py:614: FutureWarning:\n",
      "\n",
      "is_sparse is deprecated and will be removed in a future version. Check `isinstance(dtype, pd.SparseDtype)` instead.\n",
      "\n",
      "c:\\ProgramData\\anaconda3\\lib\\site-packages\\sklearn\\utils\\validation.py:767: FutureWarning:\n",
      "\n",
      "is_sparse is deprecated and will be removed in a future version. Check `isinstance(dtype, pd.SparseDtype)` instead.\n",
      "\n",
      "c:\\ProgramData\\anaconda3\\lib\\site-packages\\sklearn\\utils\\validation.py:605: FutureWarning:\n",
      "\n",
      "is_sparse is deprecated and will be removed in a future version. Check `isinstance(dtype, pd.SparseDtype)` instead.\n",
      "\n",
      "c:\\ProgramData\\anaconda3\\lib\\site-packages\\sklearn\\utils\\validation.py:614: FutureWarning:\n",
      "\n",
      "is_sparse is deprecated and will be removed in a future version. Check `isinstance(dtype, pd.SparseDtype)` instead.\n",
      "\n",
      "C:\\Users\\User\\AppData\\Roaming\\Python\\Python310\\site-packages\\pandas\\core\\arraylike.py:396: RuntimeWarning:\n",
      "\n",
      "divide by zero encountered in log\n",
      "\n"
     ]
    },
    {
     "name": "stdout",
     "output_type": "stream",
     "text": [
      "______________________________________________________\n",
      "Features complétées avec la valeur la plus fréquente :\n",
      "______________________________________________________\n",
      "shipping_duration_days \t 7.0\n",
      "______________________________________________________\n",
      "Durée d'execution du Feature engineering : 10.01s\n",
      "la taille de period_data  (83001, 9)\n"
     ]
    },
    {
     "name": "stderr",
     "output_type": "stream",
     "text": [
      "c:\\ProgramData\\anaconda3\\lib\\site-packages\\sklearn\\utils\\validation.py:767: FutureWarning:\n",
      "\n",
      "is_sparse is deprecated and will be removed in a future version. Check `isinstance(dtype, pd.SparseDtype)` instead.\n",
      "\n",
      "c:\\ProgramData\\anaconda3\\lib\\site-packages\\sklearn\\utils\\validation.py:605: FutureWarning:\n",
      "\n",
      "is_sparse is deprecated and will be removed in a future version. Check `isinstance(dtype, pd.SparseDtype)` instead.\n",
      "\n",
      "c:\\ProgramData\\anaconda3\\lib\\site-packages\\sklearn\\utils\\validation.py:614: FutureWarning:\n",
      "\n",
      "is_sparse is deprecated and will be removed in a future version. Check `isinstance(dtype, pd.SparseDtype)` instead.\n",
      "\n",
      "c:\\ProgramData\\anaconda3\\lib\\site-packages\\sklearn\\utils\\validation.py:767: FutureWarning:\n",
      "\n",
      "is_sparse is deprecated and will be removed in a future version. Check `isinstance(dtype, pd.SparseDtype)` instead.\n",
      "\n",
      "c:\\ProgramData\\anaconda3\\lib\\site-packages\\sklearn\\utils\\validation.py:605: FutureWarning:\n",
      "\n",
      "is_sparse is deprecated and will be removed in a future version. Check `isinstance(dtype, pd.SparseDtype)` instead.\n",
      "\n",
      "c:\\ProgramData\\anaconda3\\lib\\site-packages\\sklearn\\utils\\validation.py:614: FutureWarning:\n",
      "\n",
      "is_sparse is deprecated and will be removed in a future version. Check `isinstance(dtype, pd.SparseDtype)` instead.\n",
      "\n"
     ]
    },
    {
     "name": "stdout",
     "output_type": "stream",
     "text": [
      "le score pour  0.6746319806049494\n",
      "Création du dataset en cours ...\n",
      "start period :  2017-01-05 00:00:00\n",
      "stop period  :  2018-09-05 00:00:00\n"
     ]
    },
    {
     "name": "stderr",
     "output_type": "stream",
     "text": [
      "c:\\ProgramData\\anaconda3\\lib\\site-packages\\sklearn\\utils\\validation.py:767: FutureWarning:\n",
      "\n",
      "is_sparse is deprecated and will be removed in a future version. Check `isinstance(dtype, pd.SparseDtype)` instead.\n",
      "\n",
      "c:\\ProgramData\\anaconda3\\lib\\site-packages\\sklearn\\utils\\validation.py:605: FutureWarning:\n",
      "\n",
      "is_sparse is deprecated and will be removed in a future version. Check `isinstance(dtype, pd.SparseDtype)` instead.\n",
      "\n",
      "c:\\ProgramData\\anaconda3\\lib\\site-packages\\sklearn\\utils\\validation.py:614: FutureWarning:\n",
      "\n",
      "is_sparse is deprecated and will be removed in a future version. Check `isinstance(dtype, pd.SparseDtype)` instead.\n",
      "\n",
      "c:\\ProgramData\\anaconda3\\lib\\site-packages\\sklearn\\utils\\validation.py:767: FutureWarning:\n",
      "\n",
      "is_sparse is deprecated and will be removed in a future version. Check `isinstance(dtype, pd.SparseDtype)` instead.\n",
      "\n",
      "c:\\ProgramData\\anaconda3\\lib\\site-packages\\sklearn\\utils\\validation.py:605: FutureWarning:\n",
      "\n",
      "is_sparse is deprecated and will be removed in a future version. Check `isinstance(dtype, pd.SparseDtype)` instead.\n",
      "\n",
      "c:\\ProgramData\\anaconda3\\lib\\site-packages\\sklearn\\utils\\validation.py:614: FutureWarning:\n",
      "\n",
      "is_sparse is deprecated and will be removed in a future version. Check `isinstance(dtype, pd.SparseDtype)` instead.\n",
      "\n",
      "C:\\Users\\User\\AppData\\Roaming\\Python\\Python310\\site-packages\\pandas\\core\\arraylike.py:396: RuntimeWarning:\n",
      "\n",
      "divide by zero encountered in log\n",
      "\n"
     ]
    },
    {
     "name": "stdout",
     "output_type": "stream",
     "text": [
      "______________________________________________________\n",
      "Features complétées avec la valeur la plus fréquente :\n",
      "______________________________________________________\n",
      "shipping_duration_days \t 7.0\n",
      "______________________________________________________\n",
      "Durée d'execution du Feature engineering : 10.13s\n",
      "la taille de period_data  (94427, 9)\n"
     ]
    },
    {
     "name": "stderr",
     "output_type": "stream",
     "text": [
      "c:\\ProgramData\\anaconda3\\lib\\site-packages\\sklearn\\utils\\validation.py:767: FutureWarning:\n",
      "\n",
      "is_sparse is deprecated and will be removed in a future version. Check `isinstance(dtype, pd.SparseDtype)` instead.\n",
      "\n",
      "c:\\ProgramData\\anaconda3\\lib\\site-packages\\sklearn\\utils\\validation.py:605: FutureWarning:\n",
      "\n",
      "is_sparse is deprecated and will be removed in a future version. Check `isinstance(dtype, pd.SparseDtype)` instead.\n",
      "\n",
      "c:\\ProgramData\\anaconda3\\lib\\site-packages\\sklearn\\utils\\validation.py:614: FutureWarning:\n",
      "\n",
      "is_sparse is deprecated and will be removed in a future version. Check `isinstance(dtype, pd.SparseDtype)` instead.\n",
      "\n",
      "c:\\ProgramData\\anaconda3\\lib\\site-packages\\sklearn\\utils\\validation.py:767: FutureWarning:\n",
      "\n",
      "is_sparse is deprecated and will be removed in a future version. Check `isinstance(dtype, pd.SparseDtype)` instead.\n",
      "\n",
      "c:\\ProgramData\\anaconda3\\lib\\site-packages\\sklearn\\utils\\validation.py:605: FutureWarning:\n",
      "\n",
      "is_sparse is deprecated and will be removed in a future version. Check `isinstance(dtype, pd.SparseDtype)` instead.\n",
      "\n",
      "c:\\ProgramData\\anaconda3\\lib\\site-packages\\sklearn\\utils\\validation.py:614: FutureWarning:\n",
      "\n",
      "is_sparse is deprecated and will be removed in a future version. Check `isinstance(dtype, pd.SparseDtype)` instead.\n",
      "\n"
     ]
    },
    {
     "name": "stdout",
     "output_type": "stream",
     "text": [
      "le score pour  0.6388158837899601\n",
      "Création du dataset en cours ...\n",
      "start period :  2017-01-05 00:00:00\n",
      "stop period  :  2018-11-05 00:00:00\n"
     ]
    },
    {
     "name": "stderr",
     "output_type": "stream",
     "text": [
      "c:\\ProgramData\\anaconda3\\lib\\site-packages\\sklearn\\utils\\validation.py:767: FutureWarning:\n",
      "\n",
      "is_sparse is deprecated and will be removed in a future version. Check `isinstance(dtype, pd.SparseDtype)` instead.\n",
      "\n",
      "c:\\ProgramData\\anaconda3\\lib\\site-packages\\sklearn\\utils\\validation.py:605: FutureWarning:\n",
      "\n",
      "is_sparse is deprecated and will be removed in a future version. Check `isinstance(dtype, pd.SparseDtype)` instead.\n",
      "\n",
      "c:\\ProgramData\\anaconda3\\lib\\site-packages\\sklearn\\utils\\validation.py:614: FutureWarning:\n",
      "\n",
      "is_sparse is deprecated and will be removed in a future version. Check `isinstance(dtype, pd.SparseDtype)` instead.\n",
      "\n",
      "c:\\ProgramData\\anaconda3\\lib\\site-packages\\sklearn\\utils\\validation.py:767: FutureWarning:\n",
      "\n",
      "is_sparse is deprecated and will be removed in a future version. Check `isinstance(dtype, pd.SparseDtype)` instead.\n",
      "\n",
      "c:\\ProgramData\\anaconda3\\lib\\site-packages\\sklearn\\utils\\validation.py:605: FutureWarning:\n",
      "\n",
      "is_sparse is deprecated and will be removed in a future version. Check `isinstance(dtype, pd.SparseDtype)` instead.\n",
      "\n",
      "c:\\ProgramData\\anaconda3\\lib\\site-packages\\sklearn\\utils\\validation.py:614: FutureWarning:\n",
      "\n",
      "is_sparse is deprecated and will be removed in a future version. Check `isinstance(dtype, pd.SparseDtype)` instead.\n",
      "\n",
      "C:\\Users\\User\\AppData\\Roaming\\Python\\Python310\\site-packages\\pandas\\core\\arraylike.py:396: RuntimeWarning:\n",
      "\n",
      "divide by zero encountered in log\n",
      "\n"
     ]
    },
    {
     "name": "stdout",
     "output_type": "stream",
     "text": [
      "______________________________________________________\n",
      "Features complétées avec la valeur la plus fréquente :\n",
      "______________________________________________________\n",
      "shipping_duration_days \t 7.0\n",
      "______________________________________________________\n",
      "Durée d'execution du Feature engineering : 9.85s\n",
      "la taille de period_data  (94427, 9)\n"
     ]
    },
    {
     "name": "stderr",
     "output_type": "stream",
     "text": [
      "c:\\ProgramData\\anaconda3\\lib\\site-packages\\sklearn\\utils\\validation.py:767: FutureWarning:\n",
      "\n",
      "is_sparse is deprecated and will be removed in a future version. Check `isinstance(dtype, pd.SparseDtype)` instead.\n",
      "\n",
      "c:\\ProgramData\\anaconda3\\lib\\site-packages\\sklearn\\utils\\validation.py:605: FutureWarning:\n",
      "\n",
      "is_sparse is deprecated and will be removed in a future version. Check `isinstance(dtype, pd.SparseDtype)` instead.\n",
      "\n",
      "c:\\ProgramData\\anaconda3\\lib\\site-packages\\sklearn\\utils\\validation.py:614: FutureWarning:\n",
      "\n",
      "is_sparse is deprecated and will be removed in a future version. Check `isinstance(dtype, pd.SparseDtype)` instead.\n",
      "\n",
      "c:\\ProgramData\\anaconda3\\lib\\site-packages\\sklearn\\utils\\validation.py:767: FutureWarning:\n",
      "\n",
      "is_sparse is deprecated and will be removed in a future version. Check `isinstance(dtype, pd.SparseDtype)` instead.\n",
      "\n",
      "c:\\ProgramData\\anaconda3\\lib\\site-packages\\sklearn\\utils\\validation.py:605: FutureWarning:\n",
      "\n",
      "is_sparse is deprecated and will be removed in a future version. Check `isinstance(dtype, pd.SparseDtype)` instead.\n",
      "\n",
      "c:\\ProgramData\\anaconda3\\lib\\site-packages\\sklearn\\utils\\validation.py:614: FutureWarning:\n",
      "\n",
      "is_sparse is deprecated and will be removed in a future version. Check `isinstance(dtype, pd.SparseDtype)` instead.\n",
      "\n"
     ]
    },
    {
     "name": "stdout",
     "output_type": "stream",
     "text": [
      "le score pour  0.6388158837899601\n"
     ]
    }
   ],
   "source": [
    "from sklearn.metrics import homogeneity_score, adjusted_rand_score, adjusted_mutual_info_score\n",
    "K=10\n",
    "ari_score = []\n",
    "scaler = MinMaxScaler()\n",
    "for p in np.arange(2,(time_delta-12),2):\n",
    "    # Create dataset for period\n",
    "    data_period = make_dataset(dpath=\"../data/\", \n",
    "                                   initial=False, \n",
    "                                   period=p)\n",
    "    \n",
    "    print(\"la taille de period_data \",data_period.shape)    \n",
    "    # Filter on initial customer client\n",
    "    data_period = data_period[data_period.index.isin(data_init.index)]\n",
    "      \n",
    "    X_scaled_bis = scaler.fit_transform(data_period)\n",
    "    cluster_brc_c = Birch(branching_factor = 200, n_clusters= 10, threshold= 0.1)\n",
    "    labels_brc = cluster_brc_c.fit(X_scaled_bis).labels_\n",
    "    p_labels =labels_brc\n",
    "    print(\"le score pour \",silhouette_score(X_scaled_bis, labels_brc))         \n",
    "    # Calculate ARI score\n",
    "    ari_p = adjusted_rand_score(init_labels, p_labels)\n",
    "    ari_score.append([p,ari_p])"
   ]
  },
  {
   "cell_type": "code",
   "execution_count": 132,
   "metadata": {},
   "outputs": [
    {
     "name": "stderr",
     "output_type": "stream",
     "text": [
      "C:\\Users\\User\\AppData\\Roaming\\Python\\Python310\\site-packages\\seaborn\\_oldcore.py:1498: FutureWarning:\n",
      "\n",
      "is_categorical_dtype is deprecated and will be removed in a future version. Use isinstance(dtype, CategoricalDtype) instead\n",
      "\n",
      "C:\\Users\\User\\AppData\\Roaming\\Python\\Python310\\site-packages\\seaborn\\_oldcore.py:1498: FutureWarning:\n",
      "\n",
      "is_categorical_dtype is deprecated and will be removed in a future version. Use isinstance(dtype, CategoricalDtype) instead\n",
      "\n",
      "C:\\Users\\User\\AppData\\Roaming\\Python\\Python310\\site-packages\\seaborn\\_oldcore.py:1119: FutureWarning:\n",
      "\n",
      "use_inf_as_na option is deprecated and will be removed in a future version. Convert inf values to NaN before operating instead.\n",
      "\n",
      "C:\\Users\\User\\AppData\\Roaming\\Python\\Python310\\site-packages\\seaborn\\_oldcore.py:1119: FutureWarning:\n",
      "\n",
      "use_inf_as_na option is deprecated and will be removed in a future version. Convert inf values to NaN before operating instead.\n",
      "\n",
      "C:\\Users\\User\\AppData\\Local\\Temp\\ipykernel_18264\\2788583395.py:6: FutureWarning:\n",
      "\n",
      "Series.__getitem__ treating keys as positions is deprecated. In a future version, integer keys will always be treated as labels (consistent with DataFrame behavior). To access a value by position, use `ser.iloc[pos]`\n",
      "\n",
      "C:\\Users\\User\\AppData\\Local\\Temp\\ipykernel_18264\\2788583395.py:10: FutureWarning:\n",
      "\n",
      "Series.__getitem__ treating keys as positions is deprecated. In a future version, integer keys will always be treated as labels (consistent with DataFrame behavior). To access a value by position, use `ser.iloc[pos]`\n",
      "\n",
      "C:\\Users\\User\\AppData\\Local\\Temp\\ipykernel_18264\\2788583395.py:12: FutureWarning:\n",
      "\n",
      "Series.__getitem__ treating keys as positions is deprecated. In a future version, integer keys will always be treated as labels (consistent with DataFrame behavior). To access a value by position, use `ser.iloc[pos]`\n",
      "\n"
     ]
    },
    {
     "data": {
      "image/png": "[encoded data removed]",
      "text/plain": [
       "<Figure size 1200x800 with 1 Axes>"
      ]
     },
     "metadata": {},
     "output_type": "display_data"
    }
   ],
   "source": [
    "ari_score = pd.DataFrame(ari_score, columns=[\"periode\", \"ARI\"])\n",
    "\n",
    "# plot ARI Score\n",
    "fig = plt.figure(figsize=(12,8))\n",
    "sns.lineplot(data=ari_score, x=\"periode\", y=\"ARI\")\n",
    "plt.axhline(y=ari_score.iloc[2][1], linestyle=\"--\", \n",
    "            color=\"green\",\n",
    "            xmax=0.5,\n",
    "            linewidth=1)\n",
    "plt.axvline(x=ari_score.iloc[2][0], linestyle=\"--\", \n",
    "            color=\"green\",\n",
    "            ymax=1.1-(ari_score.iloc[2][1]),\n",
    "            linewidth=1)\n",
    "plt.xlabel(\"Période (mois)\")\n",
    "plt.ylabel(\"Score ARI\")\n",
    "plt.title(\"Stabilité temporelle de la segmentation par BIRCH\",\n",
    "          fontsize=18,\n",
    "          color=\"b\")\n",
    "plt.show()"
   ]
  }
 ],
 "metadata": {
  "kernelspec": {
   "display_name": "base",
   "language": "python",
   "name": "python3"
  },
  "language_info": {
   "codemirror_mode": {
    "name": "ipython",
    "version": 3
   },
   "file_extension": ".py",
   "mimetype": "text/x-python",
   "name": "python",
   "nbconvert_exporter": "python",
   "pygments_lexer": "ipython3",
   "version": "3.10.9"
  }
 },
 "nbformat": 4,
 "nbformat_minor": 2
}
